{
 "cells": [
  {
   "cell_type": "code",
   "execution_count": 4,
   "metadata": {},
   "outputs": [],
   "source": [
    "from datetime import datetime\n",
    "from fse_toolkit.utils.common import read_tif\n",
    "from fse_toolkit.multispectral.scraper import fetch_weather_data\n",
    "from fse_toolkit.multispectral.temperature import calculate_te1, calculate_te2"
   ]
  },
  {
   "cell_type": "code",
   "execution_count": 2,
   "metadata": {},
   "outputs": [],
   "source": [
    "tif_files = [\n",
    "    '../../../FPAR/To彥成/95183018_221211e_28~6584_hr4-003.tif',\n",
    "    '../../../FPAR/To彥成/95183020_221120f_30~0012_hr4.tif',\n",
    "    '../../../FPAR/To彥成/95183029_221120f_29~0113_hr4.tif',\n",
    "    '../../../FPAR/To彥成/95183038_221211e_28~6592_hr4-019.tif',\n",
    "    '../../../FPAR/To彥成/95183040_221120f_30~0004_hr4.tif',\n",
    "    '../../../FPAR/To彥成/95183049_221120f_29~0121_hr4.tif'\n",
    "]"
   ]
  },
  {
   "cell_type": "code",
   "execution_count": 3,
   "metadata": {},
   "outputs": [
    {
     "name": "stdout",
     "output_type": "stream",
     "text": [
      "影像的地理變換矩陣: | 0.25, 0.00, 222430.00|\n",
      "| 0.00,-0.25, 2513820.00|\n",
      "| 0.00, 0.00, 1.00|\n",
      "影像的座標參考系統: EPSG:3826\n"
     ]
    }
   ],
   "source": [
    "tif_data = read_tif(tif_files[1])"
   ]
  },
  {
   "cell_type": "code",
   "execution_count": 5,
   "metadata": {},
   "outputs": [
    {
     "name": "stdout",
     "output_type": "stream",
     "text": [
      "date: 2022-11-20 00:00:00\n",
      "start_ym: 2022-11 | opt_ym: 2022-06\n"
     ]
    }
   ],
   "source": [
    "date = tif_files[1].split('_')[1][:-1]\n",
    "#parse date YYMMDD -> datetime\n",
    "date = datetime.strptime(date, '%y%m%d')\n",
    "print(\"date:\", date)\n",
    "\n",
    "start_ym = date.strftime('%Y-%m')\n",
    "opt_ym = datetime(date.year, 6, 1).strftime('%Y-%m') # June of the same year\n",
    "print(\"start_ym:\", start_ym, \"|\", \"opt_ym:\", opt_ym)"
   ]
  },
  {
   "cell_type": "code",
   "execution_count": 6,
   "metadata": {},
   "outputs": [
    {
     "name": "stdout",
     "output_type": "stream",
     "text": [
      "/Users/azetry/Documents/Projects/2024/FSES/v2/fse_toolkit/src/fse_toolkit/data/station_record.csv\n",
      "WebDriver setup completed. Temp dir: /Users/azetry/Documents/Projects/2024/FSES/v2/fse_toolkit/examples/temp/tmp0gpdk5pf\n"
     ]
    }
   ],
   "source": [
    "if date.month < 6:\n",
    "    weather_data = fetch_weather_data(\n",
    "        tif_data['coordinates']['center'][0], tif_data['coordinates']['center'][1], \n",
    "        ['平均氣溫(℃)', '累積日射量(MJ/m2)'],\n",
    "        start_ym, opt_ym\n",
    "    )\n",
    "else:\n",
    "    weather_data = fetch_weather_data(\n",
    "        tif_data['coordinates']['center'][0], tif_data['coordinates']['center'][1], \n",
    "        ['平均氣溫(℃)', '累積日射量(MJ/m2)'],\n",
    "        opt_ym, start_ym\n",
    "    )"
   ]
  },
  {
   "cell_type": "code",
   "execution_count": 12,
   "metadata": {},
   "outputs": [
    {
     "data": {
      "text/html": [
       "<div>\n",
       "<style scoped>\n",
       "    .dataframe tbody tr th:only-of-type {\n",
       "        vertical-align: middle;\n",
       "    }\n",
       "\n",
       "    .dataframe tbody tr th {\n",
       "        vertical-align: top;\n",
       "    }\n",
       "\n",
       "    .dataframe thead th {\n",
       "        text-align: right;\n",
       "    }\n",
       "</style>\n",
       "<table border=\"1\" class=\"dataframe\">\n",
       "  <thead>\n",
       "    <tr style=\"text-align: right;\">\n",
       "      <th></th>\n",
       "      <th>測站代碼</th>\n",
       "      <th>平均氣溫(℃)</th>\n",
       "      <th>累積日射量(MJ/m2)</th>\n",
       "    </tr>\n",
       "    <tr>\n",
       "      <th>觀測時間</th>\n",
       "      <th></th>\n",
       "      <th></th>\n",
       "      <th></th>\n",
       "    </tr>\n",
       "  </thead>\n",
       "  <tbody>\n",
       "    <tr>\n",
       "      <th>2022-06</th>\n",
       "      <td>72Q010</td>\n",
       "      <td>28.8</td>\n",
       "      <td>794.39</td>\n",
       "    </tr>\n",
       "    <tr>\n",
       "      <th>2022-07</th>\n",
       "      <td>72Q010</td>\n",
       "      <td>29.3</td>\n",
       "      <td>817.93</td>\n",
       "    </tr>\n",
       "    <tr>\n",
       "      <th>2022-08</th>\n",
       "      <td>72Q010</td>\n",
       "      <td>28.3</td>\n",
       "      <td>766.29</td>\n",
       "    </tr>\n",
       "    <tr>\n",
       "      <th>2022-09</th>\n",
       "      <td>72Q010</td>\n",
       "      <td>27.8</td>\n",
       "      <td>667.37</td>\n",
       "    </tr>\n",
       "    <tr>\n",
       "      <th>2022-10</th>\n",
       "      <td>72Q010</td>\n",
       "      <td>26.3</td>\n",
       "      <td>579.03</td>\n",
       "    </tr>\n",
       "    <tr>\n",
       "      <th>2022-11</th>\n",
       "      <td>72Q010</td>\n",
       "      <td>25.7</td>\n",
       "      <td>554.10</td>\n",
       "    </tr>\n",
       "  </tbody>\n",
       "</table>\n",
       "</div>"
      ],
      "text/plain": [
       "           測站代碼  平均氣溫(℃)  累積日射量(MJ/m2)\n",
       "觀測時間                                  \n",
       "2022-06  72Q010     28.8        794.39\n",
       "2022-07  72Q010     29.3        817.93\n",
       "2022-08  72Q010     28.3        766.29\n",
       "2022-09  72Q010     27.8        667.37\n",
       "2022-10  72Q010     26.3        579.03\n",
       "2022-11  72Q010     25.7        554.10"
      ]
     },
     "metadata": {},
     "output_type": "display_data"
    },
    {
     "data": {
      "text/plain": [
       "index                              55\n",
       "station_id                     72Q010\n",
       "area_name                          南部\n",
       "station_name             高雄農改(72Q010)\n",
       "station_type                      農業站\n",
       "altitude(m)                      45.0\n",
       "longitude                  120.525889\n",
       "latitude                    22.709333\n",
       "city                              屏東縣\n",
       "address                 長治鄉德和村德和路2-6號\n",
       "data_start_date            1931-07-01\n",
       "station_closure_date              NaN\n",
       "notes                             NaN\n",
       "original_station_id               NaN\n",
       "new_station_id                    NaN\n",
       "Name: 0, dtype: object"
      ]
     },
     "metadata": {},
     "output_type": "display_data"
    }
   ],
   "source": [
    "display(weather_data['data'])\n",
    "display(weather_data['station_info'])"
   ]
  },
  {
   "cell_type": "code",
   "execution_count": 13,
   "metadata": {},
   "outputs": [
    {
     "name": "stdout",
     "output_type": "stream",
     "text": [
      "sol: 554.1 | t: 25.7 | t_opt: 28.8\n"
     ]
    }
   ],
   "source": [
    "sol = weather_data['data'].loc[start_ym, '累積日射量(MJ/m2)']\n",
    "t = weather_data['data'].loc[start_ym, '平均氣溫(℃)']\n",
    "t_opt = weather_data['data'].loc[opt_ym, '平均氣溫(℃)']\n",
    "print(\"sol:\", sol, \"|\", \"t:\", t, \"|\", \"t_opt:\", t_opt)"
   ]
  },
  {
   "cell_type": "code",
   "execution_count": 14,
   "metadata": {},
   "outputs": [
    {
     "name": "stdout",
     "output_type": "stream",
     "text": [
      "te1: 0.9612800000000001 | te2: 0.9257429758096202\n"
     ]
    }
   ],
   "source": [
    "te1 = calculate_te1(t_opt)\n",
    "te2 = calculate_te2(t_opt, t)\n",
    "print(\"te1:\", te1, \"|\", \"te2:\", te2)"
   ]
  },
  {
   "cell_type": "code",
   "execution_count": null,
   "metadata": {},
   "outputs": [],
   "source": []
  }
 ],
 "metadata": {
  "kernelspec": {
   "display_name": ".venv",
   "language": "python",
   "name": "python3"
  },
  "language_info": {
   "codemirror_mode": {
    "name": "ipython",
    "version": 3
   },
   "file_extension": ".py",
   "mimetype": "text/x-python",
   "name": "python",
   "nbconvert_exporter": "python",
   "pygments_lexer": "ipython3",
   "version": "3.10.14"
  }
 },
 "nbformat": 4,
 "nbformat_minor": 2
}
