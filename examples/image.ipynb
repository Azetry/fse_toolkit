{
 "cells": [
  {
   "cell_type": "code",
   "execution_count": 1,
   "metadata": {},
   "outputs": [],
   "source": [
    "import numpy as np\n",
    "from pathlib import Path\n",
    "from fse_toolkit.utils.common import read_tif, convert_grayscale_to_heatmap"
   ]
  },
  {
   "cell_type": "code",
   "execution_count": 2,
   "metadata": {},
   "outputs": [],
   "source": [
    "tif_files = [\n",
    "    '../../../FPAR/To彥成/95183018_221211e_28~6584_hr4-003.tif',\n",
    "    '../../../FPAR/To彥成/95183020_221120f_30~0012_hr4.tif',\n",
    "    '../../../FPAR/To彥成/95183029_221120f_29~0113_hr4.tif',\n",
    "    '../../../FPAR/To彥成/95183038_221211e_28~6592_hr4-019.tif',\n",
    "    '../../../FPAR/To彥成/95183040_221120f_30~0004_hr4.tif',\n",
    "    '../../../FPAR/To彥成/95183049_221120f_29~0121_hr4.tif'\n",
    "]"
   ]
  },
  {
   "cell_type": "code",
   "execution_count": 3,
   "metadata": {},
   "outputs": [
    {
     "name": "stdout",
     "output_type": "stream",
     "text": [
      "影像的地理變換矩陣: | 0.25, 0.00, 222430.00|\n",
      "| 0.00,-0.25, 2513820.00|\n",
      "| 0.00, 0.00, 1.00|\n",
      "影像的座標參考系統: EPSG:3826\n"
     ]
    }
   ],
   "source": [
    "tif_data = read_tif(tif_files[1])"
   ]
  },
  {
   "cell_type": "code",
   "execution_count": 4,
   "metadata": {},
   "outputs": [],
   "source": [
    "filename = Path(tif_files[1]).stem\n",
    "output_dir = Path(f'output/{filename}')\n",
    "output_dir.mkdir(parents=True, exist_ok=True)\n",
    "output_png = output_dir / f'nir.png'"
   ]
  },
  {
   "cell_type": "code",
   "execution_count": 5,
   "metadata": {},
   "outputs": [
    {
     "name": "stdout",
     "output_type": "stream",
     "text": [
      "熱力圖已儲存至: output/95183020_221120f_30~0012_hr4/nir.png\n"
     ]
    }
   ],
   "source": [
    "convert_grayscale_to_heatmap(tif_data['bands'][3],\n",
    "                        output_png,\n",
    "                        'nir')\n"
   ]
  }
 ],
 "metadata": {
  "kernelspec": {
   "display_name": ".venv",
   "language": "python",
   "name": "python3"
  },
  "language_info": {
   "codemirror_mode": {
    "name": "ipython",
    "version": 3
   },
   "file_extension": ".py",
   "mimetype": "text/x-python",
   "name": "python",
   "nbconvert_exporter": "python",
   "pygments_lexer": "ipython3",
   "version": "3.10.14"
  }
 },
 "nbformat": 4,
 "nbformat_minor": 2
}
